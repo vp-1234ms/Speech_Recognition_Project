{
 "cells": [
  {
   "cell_type": "code",
   "execution_count": 2,
   "metadata": {},
   "outputs": [],
   "source": [
    "import moviepy.editor as mp\n",
    "import os\n",
    "import cv2\n",
    "import speech_recognition as sr"
   ]
  },
  {
   "cell_type": "code",
   "execution_count": 3,
   "metadata": {},
   "outputs": [
    {
     "name": "stdout",
     "output_type": "stream",
     "text": [
      "MoviePy - Writing audio in output_audio.wav\n"
     ]
    },
    {
     "name": "stderr",
     "output_type": "stream",
     "text": [
      "                                                                  \r"
     ]
    },
    {
     "name": "stdout",
     "output_type": "stream",
     "text": [
      "MoviePy - Done.\n"
     ]
    }
   ],
   "source": [
    "def extract_audio(video_path, audio_path):\n",
    "    video = mp.VideoFileClip(video_path)\n",
    "    audio = video.audio\n",
    "    audio.write_audiofile(audio_path, codec='pcm_s16le', ffmpeg_params=[\"-ac\", \"1\"])\n",
    "\n",
    "\n",
    "def extract_frames(video_path, frames_path, max_frames=200):\n",
    "    cap = cv2.VideoCapture(video_path)\n",
    "    frame_count = int(cap.get(cv2.CAP_PROP_FRAME_COUNT))\n",
    "\n",
    "    if frame_count < max_frames:\n",
    "        max_frames = frame_count\n",
    "\n",
    "    frame_interval = frame_count // max_frames\n",
    "\n",
    "    frame_list = []\n",
    "\n",
    "    for i in range(0, frame_count, frame_interval):\n",
    "        cap.set(1, i)\n",
    "        _, frame = cap.read()\n",
    "        frame_list.append(frame)\n",
    "\n",
    "    cap.release()\n",
    "\n",
    "    for i, frame in enumerate(frame_list):\n",
    "        cv2.imwrite(os.path.join(frames_path, f\"frame_{i+1}.jpg\"), frame)\n",
    "\n",
    "def extract_transcript(audio_path, transcript_path):\n",
    "    recognizer = sr.Recognizer()\n",
    "\n",
    "    with sr.AudioFile(audio_path) as source:\n",
    "        audio = recognizer.record(source)\n",
    "\n",
    "    transcript = recognizer.recognize_google(audio)\n",
    "\n",
    "    with open(transcript_path, \"w\") as file:\n",
    "        file.write(transcript)\n",
    "\n",
    "if __name__ == \"__main__\":\n",
    "    video_path = \"Sample.mp4\"\n",
    "    audio_path = \"output_audio.wav\"\n",
    "    frames_path = \"frames_folder\"\n",
    "    transcript_path = \"transcript.txt\"\n",
    "\n",
    "    # Task 1: Extract audio\n",
    "    extract_audio(video_path, audio_path)\n",
    "\n",
    "    # Task 2: Extract frames\n",
    "    if not os.path.exists(frames_path):\n",
    "        os.makedirs(frames_path)\n",
    "    extract_frames(video_path, frames_path)\n",
    "\n",
    "    # Task 3: Extract transcript\n",
    "    extract_transcript(audio_path, transcript_path)\n"
   ]
  }
 ],
 "metadata": {
  "kernelspec": {
   "display_name": "venv",
   "language": "python",
   "name": "python3"
  },
  "language_info": {
   "codemirror_mode": {
    "name": "ipython",
    "version": 3
   },
   "file_extension": ".py",
   "mimetype": "text/x-python",
   "name": "python",
   "nbconvert_exporter": "python",
   "pygments_lexer": "ipython3",
   "version": "3.11.6"
  }
 },
 "nbformat": 4,
 "nbformat_minor": 2
}
